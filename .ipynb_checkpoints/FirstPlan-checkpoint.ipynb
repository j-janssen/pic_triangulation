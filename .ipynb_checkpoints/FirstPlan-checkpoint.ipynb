{
 "cells": [
  {
   "cell_type": "markdown",
   "metadata": {},
   "source": [
    "<img src=\"./Logo/PT_Logo_Header.svg\" style=\"width:1000px;height=10px\"/>\n",
    "\n",
    "## The Milestones & the Three Stage Plan\n",
    "\n",
    "The **goal** of this project is to get familiar with different kinds of programming tools and methods. \n",
    "Therefore we program an algorithm that aproximates a given picture with one-colored triangles. This project consists of three stages. First, we build the program (this will take most of the time). Then we make the algorithm accessible via web. And in the end, we develoape an app-version of the programm.\n",
    "\n",
    "Now, a few words to the organisation. We will work via GitHub (see folder or https://guides.github.com/activities/hello-world/). There we can build together the code without interference. Weekly, we meet in discussion sessions where we talk about progress and difficulties. Here we use Jupiter Notebook for presentations and protocols (see https://jupyter-notebook-beginner-guide.readthedocs.io/en/latest/). In this sessions we elaborate the amount of work and devide it into blocks (ideally independent of each other). One is free to pic and work on a block.  \n",
    "\n",
    "Here is a brief guideline with the **Milestones** for the first stage:  \n",
    "* **The blueprint of the Algo** (Preliminary) \n",
    "    * Stepp 1: List possible algos that solve the problem!  \n",
    "    * Stepp 2: Pic one by evaluating the pros and cons!\n",
    "    * Stepp 3: Devide the workload into managable chunks/ blocks! \n",
    "\n",
    "* **The Awakening of the Algo** (Main Part)\n",
    "    * Stepp 1: Code in Python (version 1)! \n",
    "    * Stepp 2: Code in C ++ (version 2)!\n",
    "    * Stepp 3: Use the C++ Code in Python via a library to speed things up! \n",
    "\n",
    "* **The Fine Tuning** (Finish)\n",
    "    * **Stepp 1:** Check possble problems.\n",
    "    * **Stepp 2:** Check possible improvements.\n",
    "    * **Stepp 3:** The final check!\n",
    "\n",
    "## Discussion Sessions\n",
    "    \n",
    "Why Discussion Sessions? In these sessions we talk about progress, problems and questions to keep everyone up-to-date. For each session a protocol will be made and uploaded. Participation is optional. So if one misses a session there is no problem since you can look up anything important in the protocol. \n",
    "\n",
    "When/Where are the Discussion Sessions? Weekly we will meet on tuesday at 3-4 p.m. via zoom. If you want to come to a meeting please mark it in the participants list in the protocol (the blank protocols with the participants list are uploaded one week ahead). \n",
    "\n",
    "## About the Problem itself\n",
    "\n",
    "This section elaborates the problem mentioned in the introduction. As input the algo gets a picture (.jpg/.png). The output is again a picture (same size), but this one consists only of colored triangles next to each other such that it approximates the given one sufficiently. Down below you find some epic example pics (for these pics we used the uploaded algo-prototyp). \n",
    "<table><tr>\n",
    "<td> <img src=\"./Images/test.jpg\" style=\"width:80px;height=80px\" align=\"center\"/> </td>\n",
    "<td> <img src=\"./Images/test_2.jpg\" style=\"width:80px;height=80px\" align=\"center\"/> </td>\n",
    "<td> <img src=\"./Images/pt_test.png\" style=\"width:80px;height=80px\"/> </td>\n",
    "<td> <img src=\"./Images/pt_test_2.png\" style=\"width:80px;height=80px\"/> </td>\n",
    "</tr>\n",
    "\n",
    "    \n",
    "\n",
    "\n",
    "  "
   ]
  },
  {
   "cell_type": "code",
   "execution_count": null,
   "metadata": {},
   "outputs": [],
   "source": []
  }
 ],
 "metadata": {
  "kernelspec": {
   "display_name": "Python 3",
   "language": "python",
   "name": "python3"
  },
  "language_info": {
   "codemirror_mode": {
    "name": "ipython",
    "version": 3
   },
   "file_extension": ".py",
   "mimetype": "text/x-python",
   "name": "python",
   "nbconvert_exporter": "python",
   "pygments_lexer": "ipython3",
   "version": "3.8.3"
  }
 },
 "nbformat": 4,
 "nbformat_minor": 4
}
