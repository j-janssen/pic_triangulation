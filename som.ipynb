{
 "cells": [
  {
   "cell_type": "markdown",
   "metadata": {},
   "source": [
    "<img src=\"./Logo/PT_Logo_Header.svg\" style=\"width:1000px;height=10px\"/>\n",
    "\n",
    "## Self Organizing Map \n",
    "\n",
    "Idee - unüberwachtes Lernen - Pixel Punkt Zuordnung - basierend darauf Dreiecke bilden"
   ]
  },
  {
   "cell_type": "code",
   "execution_count": 1,
   "metadata": {},
   "outputs": [],
   "source": [
    "import math\n",
    "import random\n",
    "import numpy as np\n",
    "import matplotlib.pyplot as plt\n",
    "from PIL import Image       #for image input\n",
    "import os                   #for image input - image path\n",
    "import drawSvg as draw      #for image output"
   ]
  },
  {
   "cell_type": "markdown",
   "metadata": {},
   "source": [
    "Wir initialisieren eine Klasse für das Neuronale Netz."
   ]
  },
  {
   "cell_type": "code",
   "execution_count": 10,
   "metadata": {},
   "outputs": [],
   "source": [
    "class SOM(object):\n",
    "\n",
    "    def __init__(self, pic_path, fineness):\n",
    "        im = Image.open(pic_path)\n",
    "        self.pic_width, self.pic_height = im.size\n",
    "        self.pic_width = int(self.pic_width) -1\n",
    "        self.pic_height = int(self.pic_height) -1\n",
    "        self.rgb_pic = im.convert('RGB')\n",
    "        X = np.round(np.linspace(0,self.pic_width -1, fineness))\n",
    "        Y = np.round(np.linspace(0,self.pic_height -1 , fineness))\n",
    "        self.weights = np.array([[\n",
    "                                [x,y,self.rgb_pic.getpixel((x, y))[0],self.rgb_pic.getpixel((x, y))[1],self.rgb_pic.getpixel((x, y))[2]]\n",
    "                                for x in X] for y in Y])\n",
    "        self.fineness = fineness\n",
    "\n",
    "    def get_dist(self, A, B):\n",
    "        dist = abs(A[0] - B[0]) + abs(A[1]-B[1]) \n",
    "        temp = min(abs(B[0]-A[0]), abs(B[1]-A[1]))\n",
    "        dist = dist - 0.5 * abs(np.sign(B[0]-A[0]) * temp - np.sign(B[1]-A[1])* temp)\n",
    "        return dist\n",
    "\n",
    "    def get_winner(self, point):\n",
    "        k,l = (0,0)\n",
    "        min = np.linalg.norm(np.subtract(point, self.weights[0][0]))\n",
    "        for i in range(self.fineness):\n",
    "            for j in range(self.fineness):\n",
    "                temp = np.linalg.norm(np.subtract(point, self.weights[i][j]))\n",
    "                if(temp < min):\n",
    "                    min = temp\n",
    "                    k,l = (i,j)\n",
    "        return (k,l)\n",
    "\n",
    "    def dist_fct(self, dist, rad):\n",
    "        if(dist > rad): \n",
    "            return 0\n",
    "        else:\n",
    "            return 1- dist/rad\n",
    "\n",
    "    def training(self, max_iteration, learn_rate):\n",
    "        rad = 3\n",
    "        max_iteration = max_iteration\n",
    "        for stepp in range(max_iteration):\n",
    "            if((stepp/max_iteration *100) % 10 == 0):\n",
    "                print(\"Das Training ist zu \" + str(stepp/ max_iteration *100) + \"% beendet!\")\n",
    "            x = random.randint(0,self.pic_height -1)\n",
    "            y = random.randint(0, self.pic_width -1)\n",
    "            r,g,b = self.rgb_pic.getpixel((y,x))\n",
    "            point = np.array([y,x,r,g,b])\n",
    "            k,l = self.get_winner(point)\n",
    "            for i in range(self.fineness):\n",
    "                for j in range(self.fineness):\n",
    "                    if(self.dist_fct(self.get_dist([i,j],[k,l]), rad) != 0):\n",
    "                        self.weights[i][j] += learn_rate * np.subtract( point ,self.weights[i][j]) * self.dist_fct(abs(i-k)+abs(j-l), rad)\n",
    "                rad = rad * 0.9999\n",
    "        print(\"Das Training ist abgeschlossen!\")\n",
    "\n",
    "    def gen_image(self):\n",
    "        d = draw.Drawing(self.pic_width, self.pic_height, origin='center', displayInline=False)\n",
    "        w = (self.pic_width -1)/2\n",
    "        h = (self.pic_height -1)/2\n",
    "        for y in range(self.fineness -1):\n",
    "            for x in range(self.fineness -1):\n",
    "                d.append(draw.Lines(int(self.weights[x][y][0]-w),int(h-self.weights[x][y][1]),\n",
    "                                    int(self.weights[x+1][y][0]-w),int(h-self.weights[x+1][y][1]),\n",
    "                                    int(self.weights[x][y+1][0]-w),int(h-self.weights[x][y+1][1]),\n",
    "                                    int(self.weights[x][y][0]-w),int(h-self.weights[x][y][1]),\n",
    "                                    close=False,\n",
    "                                    fill='#%02x%02x%02x' % (int(self.weights[x][y][2]),int(self.weights[x][y][3]),int(self.weights[x][y][4])) ,\n",
    "                                    ))\n",
    "        for y in range(1,self.fineness):\n",
    "            for x in range(1,self.fineness):\n",
    "                d.append(draw.Lines(int(self.weights[x][y][0]-w),int(h-self.weights[x][y][1]),\n",
    "                                    int(self.weights[x-1][y][0]-w),int(h-self.weights[x-1][y][1]),\n",
    "                                    int(self.weights[x][y-1][0]-w),int(h-self.weights[x][y-1][1]),\n",
    "                                    int(self.weights[x][y][0]-w),int(h-self.weights[x][y][1]),\n",
    "                                    close=False,\n",
    "                                    fill='#%02x%02x%02x' % (int(self.weights[x][y][2]),int(self.weights[x][y][3]),int(self.weights[x][y][4])) ,\n",
    "                                    ))\n",
    "        d.setPixelScale(1)\n",
    "        d.saveSvg('test.svg')   #is saved in home directory\n",
    "        d.savePng('test.png')   #is saved in home directory\n",
    "        d.rasterize()"
   ]
  },
  {
   "cell_type": "markdown",
   "metadata": {},
   "source": [
    "Jetzt das Interface und die Ausführung. Achtung! Hierfür muss das Bild im gleichen Ordner wie das Programm sein!"
   ]
  },
  {
   "cell_type": "code",
   "execution_count": 8,
   "metadata": {},
   "outputs": [
    {
     "name": "stdout",
     "output_type": "stream",
     "text": [
      "Das Neuronale Netz baut sich auf. Aber vorab brauchen wir noch ein paar Infos.\n",
      "Eingabe von dem Bildname - Bsp.: test.jpg : test.jpg\n",
      "Eingabe von der Netzfeinheit: - Bsp.: 20 : 20\n",
      "Eingabe von der Trainingsanzahl - Bsp.: 50000 : 100\n",
      "Eingabe von der Lernrate - Bsp.: 0.1 : 0.1\n",
      "Nun gehts los! :)\n",
      "Das Training ist zu 0.0% beendet!\n",
      "Das Training ist zu 10.0% beendet!\n",
      "Das Training ist zu 20.0% beendet!\n",
      "Das Training ist zu 30.0% beendet!\n",
      "Das Training ist zu 40.0% beendet!\n",
      "Das Training ist zu 50.0% beendet!\n",
      "Das Training ist zu 60.0% beendet!\n",
      "Das Training ist zu 70.0% beendet!\n",
      "Das Training ist zu 80.0% beendet!\n",
      "Das Training ist zu 90.0% beendet!\n",
      "Das Training ist abgeschlossen!\n"
     ]
    }
   ],
   "source": [
    "print('Das Neuronale Netz baut sich auf. Aber vorab brauchen wir noch ein paar Infos.')\n",
    "pic_path = input('Eingabe von dem Bildname - Bsp.: test.jpg : ')\n",
    "fineness = int(input('Eingabe von der Netzfeinheit: - Bsp.: 20 : '))\n",
    "max_iteration = int(input('Eingabe von der Trainingsanzahl - Bsp.: 50000 : '))\n",
    "lear_rate = float(input('Eingabe von der Lernrate - Bsp.: 0.1 : '))\n",
    "print('Nun gehts los! :)')\n",
    "\n",
    "NN = SOM(pic_path, fineness)\n",
    "NN.training(max_iteration, lear_rate)\n",
    "NN.gen_image()"
   ]
  },
  {
   "cell_type": "code",
   "execution_count": null,
   "metadata": {},
   "outputs": [],
   "source": []
  }
 ],
 "metadata": {
  "kernelspec": {
   "display_name": "Python 3",
   "language": "python",
   "name": "python3"
  },
  "language_info": {
   "codemirror_mode": {
    "name": "ipython",
    "version": 3
   },
   "file_extension": ".py",
   "mimetype": "text/x-python",
   "name": "python",
   "nbconvert_exporter": "python",
   "pygments_lexer": "ipython3",
   "version": "3.8.3"
  }
 },
 "nbformat": 4,
 "nbformat_minor": 4
}
