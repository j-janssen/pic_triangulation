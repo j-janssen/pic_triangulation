{
 "cells": [
  {
   "cell_type": "markdown",
   "metadata": {},
   "source": [
    "<img src=\"PT_Logo2.svg\" style=\"width:1000px;height=10px\"/>\n",
    "\n",
    "## The Milestones & the Three Stage Plan\n",
    "\n",
    "The **goal** of this project is to get familiar with different kinds of programming tools and methods. \n",
    "Therefore we program an algorithm that aproximates a given picture with one-colored triangles. This project consists of three stages. First, we build the program (this will take most of the time). Then we make the algorithm accessible via web. And in the end, we develoape an app-version of the programm.\n",
    "\n",
    "Now, a few words to the organisation. We will work via GitHub. There we can build together the code without interference. Jupiter Notebook is used for presentations in discussion sessions. The workload is structured into blocks (ideally independent of each other). One is free to deal with such a block. \n",
    "\n",
    "Here is a brief guideline with the **Milestones** for the first stage:  \n",
    "* **The blueprint of the Algo** (Preliminary) \n",
    "    * Stepp 1: List possible algos that solve the problem!  \n",
    "    * Stepp 2: Pic one by evaluating the pros and cons!\n",
    "    * Stepp 3: Devide the workload into managable chunks/ blocks! \n",
    "\n",
    "* **The Awakening of the Algo** (Main Part)\n",
    "    * Stepp 1: Code in Python (version 1)! \n",
    "    * Stepp 2: Code in C ++ (version 2)!\n",
    "    * Stepp 3: Use the C++ Code in Python via a library to speed things up! \n",
    "\n",
    "* **The Fine Tuning** (Finish)\n",
    "    * **Stepp 1:** Check possble problems.\n",
    "    * **Stepp 2:** Check possible improvements.\n",
    "    * **Stepp 3:** The final check!\n",
    "\n",
    "This section elaborates the problem mentioned in the introduction. As input the algo gets pictures (.jpg/.png). The output is again a picture (same size), but this picture consists only of colored triangles next to each other such that it approximates the given one sufficiently. Down below you find some example pics. \n",
    "<table><tr>\n",
    "<td> <img src=\"test.jpg\" style=\"width:80px;height=80px\" align=\"center\"/> </td>\n",
    "<td> <img src=\"test_2.jpg\" style=\"width:80px;height=80px\" align=\"center\"/> </td>\n",
    "<td> <img src=\"pt_test.png\" style=\"width:80px;height=80px\"/> </td>\n",
    "<td> <img src=\"pt_test_2.png\" style=\"width:80px;height=80px\"/> </td>\n",
    "</tr>"
   ]
  },
  {
   "cell_type": "code",
   "execution_count": null,
   "metadata": {},
   "outputs": [],
   "source": []
  }
 ],
 "metadata": {
  "kernelspec": {
   "display_name": "Python 3",
   "language": "python",
   "name": "python3"
  },
  "language_info": {
   "codemirror_mode": {
    "name": "ipython",
    "version": 3
   },
   "file_extension": ".py",
   "mimetype": "text/x-python",
   "name": "python",
   "nbconvert_exporter": "python",
   "pygments_lexer": "ipython3",
   "version": "3.8.3"
  }
 },
 "nbformat": 4,
 "nbformat_minor": 4
}
