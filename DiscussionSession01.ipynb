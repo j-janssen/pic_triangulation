{
 "cells": [
  {
   "cell_type": "markdown",
   "metadata": {},
   "source": [
    "<img src=\"./Logo/PT_Logo_Header.svg\" style=\"width:1000px;height=10px\"/>\n",
    "\n",
    "## Discussion Session Nr. 1 \n",
    "\n",
    "**Participants-List:** \n",
    "- [x] Project Manager: Jörg\n",
    "- [ ] Collaborater: Alex\n",
    "- [ ] Collaborater: Luca\n",
    "- [ ] Collaborater: \n",
    "- [ ] Collaborater:\n",
    "- [ ] Collaborater:\n",
    "\n",
    "Welcome to the Discussion Session. Here we briefly present and sum up our progress (< 20 min). Then we discuss our problems and deal with unanswered questions (< 30 min). In the end we adjust our further proceeding while reflecting on the last week.\n",
    "\n",
    "**Checklist** \n",
    "- [ ] Is there anyone else who is intersted in such a project? \n",
    "- [ ] How big is your motivation? (Will you be rather active or passive?)\n",
    "- [ ] Are there all info you need in the repository? \n",
    "- [ ] Feel free to ask some questions!\n",
    "- [ ] What do you think about this all?"
   ]
  },
  {
   "cell_type": "code",
   "execution_count": null,
   "metadata": {},
   "outputs": [],
   "source": []
  }
 ],
 "metadata": {
  "kernelspec": {
   "display_name": "Python 3",
   "language": "python",
   "name": "python3"
  },
  "language_info": {
   "codemirror_mode": {
    "name": "ipython",
    "version": 3
   },
   "file_extension": ".py",
   "mimetype": "text/x-python",
   "name": "python",
   "nbconvert_exporter": "python",
   "pygments_lexer": "ipython3",
   "version": "3.8.3"
  }
 },
 "nbformat": 4,
 "nbformat_minor": 4
}
